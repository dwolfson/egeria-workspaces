{
 "cells": [
  {
   "cell_type": "code",
   "execution_count": 1,
   "id": "cf4ae0ed-32cb-420f-9499-f0139e1fd19f",
   "metadata": {},
   "outputs": [],
   "source": [
    "import os\n",
    "view_server = os.environ.get(\"VIEW_SERVER\",\"view-server\")\n",
    "url = os.environ.get(\"EGERIA_VIEW_SERVER_URL\",\"https://host.docker.internal:9443\")\n",
    "user_id = os.environ.get(\"EGERIA_USER\", \"peterprofile\")\n",
    "user_pwd = os.environ.get(\"EGERIA_USER_PASSWORD\")\n",
    "\n",
    "from pyegeria import AutomatedCuration, ServerOps\n",
    "import asyncio\n",
    "import nest_asyncio\n",
    "nest_asyncio.apply()\n",
    "\n",
    "import time\n",
    "\n",
    "ucServerTemplateGUID=\"dcca9788-b30f-4007-b1ac-ec634aff6879\"  \n",
    "ucCatalogTemplateGUID=\"5ee006aa-a6d6-411b-9b8d-5f720c079cae\" \n",
    "ucSchemaTemplateGUID=\"5bf92b0f-3970-41ea-b0a3-aacfbf6fd92e\"  \n",
    "ucVolumeTemplateGUID=\"92d2d2dc-0798-41f0-9512-b10548d312b7\"  \n",
    "ucTableTemplateGUID=\"6cc1e5f5-4c1e-4290-a80e-e06643ffb13d\"   \n",
    "ucFunctionTemplateGUID=\"a490ba65-6104-4213-9be9-524e16fed8aa\"\n",
    "\n",
    "s_client = ServerOps(\"integration-daemon\",url,'erinoverview')\n",
    "\n",
    "austinHostURL=\"http://egeria.pdr-associates.com\"\n",
    "austinHostPort=8070\n"
   ]
  },
  {
   "cell_type": "markdown",
   "id": "d0ab17c7-c533-4301-b8e8-a0d59c9e5269",
   "metadata": {},
   "source": [
    "![Egeria Logo](https://raw.githubusercontent.com/odpi/egeria/main/assets/img/ODPi_Egeria_Logo_color.png)\n",
    "\n",
    "### Egeria and Unity Catalog demo\n",
    "\n",
    "# Cataloguing Unity Catalog (UC)\n",
    "\n",
    "## Introduction\n",
    "\n",
    "Both Unity Catalog and Egeria are open source projects with the LF AI and Data.  The difference between these technologies is:\n",
    "\n",
    " * Unity Catalog is responsible for governing access to data; whereas Egeria governs the exchange of metadata between tools and systems, such as Unity Catalog.\n",
    "\n",
    " * Similarly, Unity Catalog maintains a metadata repository describing the data it is protecting.  In contrast, Egeria maintains a distributed network of metadata repositories containing metadata about the technology (systems, tools, data), the processes that are operating on them, along with the people and organizations involved.\n",
    "\n",
    "This demo shows the new Egeria connectors that synchronize metadata between Unity Catalog (UC) and the open metadata ecosystem.  The setup is shown below:\n",
    "\n",
    "![systems](unity-catalog-demo-systems.png)\n",
    "\n",
    "Starting on the left hand side, you can see JupyterLab (that is running this notebook) with Unity Catalog above it.\n",
    "Egeria's REST APIs are being called by the notebooks and commands running in JupyterLab. Egeria is, in turn, calling Unity Catalog via its REST API.  Egeria also produces events when metadata changes.  \n",
    "\n",
    "Egeria's runtime is called the [OMAG Server Platform](https://egeria-project.org/concepts/omag-server-platform/).   It hosts OMAG Servers that are configured to perform certain tasks:\n",
    "\n",
    "* Active Metadata Store manages the metadata repository (XTDB)\n",
    "* View Server provides REST APIs for the python environment\n",
    "* Integration Daemon synchronizes metadata with Unity Catalog\n",
    "* Engine Host runs governance functions.\n",
    "\n",
    "## Tell Egeria where Unity Catalog is\n",
    "\n",
    "Egeria's metadata repository holds both the metadata it is synchronizing between systems as well as the configuration used to control its behaviour.  Therefore the first step to connect Unity Catalog and Egeria ia to create a metadata element in Egeria that describes the Unity Catalog Server.  \n",
    "\n",
    "The code below uses a template to add details of the Unity Catalog Server to Egeria.  The template creates an [Asset](https://egeria-project.org/concepts/asset/) entity to represent the server linked to a [Connection](https://egeria-project.org/concepts/connection/) that is used by connectors in Egeria to call Unity Catalog.  It then connects this asset to the integration connector that is responsible for synchronizing metadata between Unity Catalog and Egeria.\n",
    "\n",
    "---"
   ]
  },
  {
   "cell_type": "code",
   "execution_count": 2,
   "id": "9325fc82-7592-47ac-b204-34ddd22ab07b",
   "metadata": {},
   "outputs": [],
   "source": [
    "egeria_client = AutomatedCuration(view_server, url, user_id, user_pwd)\n",
    "token = egeria_client.create_egeria_bearer_token()"
   ]
  },
  {
   "cell_type": "code",
   "execution_count": 3,
   "id": "f8f4b200-0a6f-4505-86ac-036c3e40feaa",
   "metadata": {},
   "outputs": [
    {
     "data": {
      "text/plain": [
       "'fd47ca53-3856-4b3a-8506-8aeea973d95e'"
      ]
     },
     "execution_count": 3,
     "metadata": {},
     "output_type": "execute_result"
    }
   ],
   "source": [
    "catalogUnityCatalogServerName=\"UnityCatalogGovernanceServices:catalog-unity-catalog-server\"\n",
    "\n",
    "requestParameters = {\n",
    "    \"hostURL\" : \"http://host.docker.internal\",\n",
    "    \"portNumber\" : \"8080\",\n",
    "    \"serverName\" : \"Unity Catalog 1\",  \n",
    "    \"versionIdentifier\" : \"V1.0\",\n",
    "    \"description\" : \"First instance of the Unity Catalog (UC) Server.\",\n",
    "    \"serverUserId\" : \"uc1\"\n",
    "}\n",
    "\n",
    "egeria_client.initiate_gov_action_type(catalogUnityCatalogServerName, None, None, None, requestParameters, None)\n"
   ]
  },
  {
   "cell_type": "markdown",
   "id": "dd5823f5-5f44-40ba-8220-5f8ed0f7ddc5",
   "metadata": {},
   "source": [
    "----\n",
    "\n",
    "The next code snippet adds the second unity catalog ...\n",
    "\n",
    "----"
   ]
  },
  {
   "cell_type": "code",
   "execution_count": 4,
   "id": "570f35c8-3978-44fb-8e72-5e1fe0df9250",
   "metadata": {},
   "outputs": [
    {
     "data": {
      "text/plain": [
       "'710905f1-b0ad-401a-9904-caa5e9880efd'"
      ]
     },
     "execution_count": 4,
     "metadata": {},
     "output_type": "execute_result"
    }
   ],
   "source": [
    "requestParameters = {\n",
    "    \"hostURL\" : austinHostURL,\n",
    "        \"portNumber\" : austinHostPort,\n",
    "        \"serverName\" : \"Unity Catalog 2\",\n",
    "        \"versionIdentifier\" : \"V1.0\",\n",
    "        \"description\" : \"Second instance of the Unity Catalog (UC) Server.\",\n",
    "        \"serverUserId\" : \"uc2\"\n",
    "}\n",
    "\n",
    "egeria_client.initiate_gov_action_type(catalogUnityCatalogServerName, None, None, None, requestParameters, None)"
   ]
  },
  {
   "cell_type": "markdown",
   "id": "6832e3f9-b431-46da-b69c-493d82763c96",
   "metadata": {},
   "source": [
    "---\n",
    "\n",
    "So there is a lot more you can do... but here are some take aways ...\n",
    "\n",
    "* The Server Survey allows you to generate a high level summary of the contents of a UC server.   This is a useful to figure out what is worth cataloguing.   A regular scheduled run of this survey can show how the contents are changing over time.\n",
    "\n",
    "* Cataloguing UC allows you to run searches over the content and also, I haven’t shown you this but you can perform more detailed surveys on individual resources in UC, and receive notifications from Egeria each time something changes in UC.\n",
    "\n",
    "* Notice how dynamically configurable Egeria is.  This means its actions can be coded in your pipelines or scripts.  Plus you can see the results and act on them too.\n",
    "\n",
    "* Egeria is extremely scalable.  It runs on a Raspberry Pi, so it can manage sensor data at the edge.  We have shown it here in a small team setting, plus it scales to a multi-tenant cloud environment - and all of these deployments can be linked together to share metadata.  It also can be its own deployment or embedded in other projects/products.\n",
    "\n",
    "* Other processes running in Egeria can augment the metadata from UC, enhancing the level of governance that can be offered.  We are going to show this in the next call.\n",
    "\n",
    "---"
   ]
  },
  {
   "cell_type": "markdown",
   "id": "f875953b-e70b-4f21-97bd-580562b1b922",
   "metadata": {},
   "source": [
    "# Onboarding data safely into Unity Catalog (UC)\n",
    "\n",
    "## Introduction\n",
    "\n",
    "Whether Callie can process the data and for what type of processing requires more than access control.  She has access to the data (provided by UC) because she is on the project.  There are additional legal obligations - such as who it can be shared with, when it must be deleted, the type of data protection mechanisms that must be in place.  These are partly her responsibility, and partly the responsibility of others - and this coordination across different professionals/departments/tools  is difficult in a busy organization.\n",
    "\n",
    "## Clinical Trials\n",
    "\n",
    "Clinical trials are used to test that new treatments are both safe and effective.  They involve taking measurements from various patients both before and after they start the treatment.  Callie has to analysis these measurements as part of the package to submit to the regulators.\n",
    "\n",
    "The data comes in from a variety of hospitals.  It is personally sensitive to the patients, of importance to the business and subject to regulatory control and so care is needed that:\n",
    "\n",
    "* it has been collected correctly\n",
    "* it is protected at all times\n",
    "* the correct data sharing agreements are in place to provide legal cover, both for the hospitals and Coco Pharmaceuticals.\n",
    "\n",
    "In this example, there are three hospitals supplying data:\n",
    "\n",
    "![Onboarding Process](unity-catalog-onboarding-process.png)\n",
    "\n",
    "## Setting up the clinical trail\n",
    "\n",
    "The first step is to create the processes that will be used by the staff during the clinical trial.  \n",
    "It uses generic process steps and creates processes for the clinical trial that are initialized with all of the correct values.  \n",
    "This reduces the chance that someone will use the wrong value by accident.\n",
    "\n",
    "---"
   ]
  },
  {
   "cell_type": "code",
   "execution_count": 5,
   "id": "8dcd1fc6-1f40-4f79-91a5-6c596bd6f24d",
   "metadata": {},
   "outputs": [],
   "source": [
    "token = egeria_client.create_egeria_bearer_token()"
   ]
  },
  {
   "cell_type": "code",
   "execution_count": 7,
   "id": "975fe702-f1cd-478b-abe8-f51c8ca1ba86",
   "metadata": {},
   "outputs": [
    {
     "ename": "InvalidParameterException",
     "evalue": "OMAG-GENERIC-HANDLERS-400-013 Unable to initiate an instance of the ClinicalTrials@CocoPharmaceuticals:set-up-clinical-trial governance action type because the name is not recognized",
     "output_type": "error",
     "traceback": [
      "\u001b[0;31m---------------------------------------------------------------------------\u001b[0m",
      "\u001b[0;31mInvalidParameterException\u001b[0m                 Traceback (most recent call last)",
      "Cell \u001b[0;32mIn[7], line 40\u001b[0m\n\u001b[1;32m      6\u001b[0m action_targets \u001b[38;5;241m=\u001b[39m [{\n\u001b[1;32m      7\u001b[0m       \u001b[38;5;124m\"\u001b[39m\u001b[38;5;124mclass\u001b[39m\u001b[38;5;124m\"\u001b[39m : \u001b[38;5;124m\"\u001b[39m\u001b[38;5;124mNewActionTarget\u001b[39m\u001b[38;5;124m\"\u001b[39m,\n\u001b[1;32m      8\u001b[0m       \u001b[38;5;124m\"\u001b[39m\u001b[38;5;124mactionTargetName\u001b[39m\u001b[38;5;124m\"\u001b[39m: \u001b[38;5;124m\"\u001b[39m\u001b[38;5;124mclinicalTrialProject\u001b[39m\u001b[38;5;124m\"\u001b[39m,\n\u001b[0;32m   (...)\u001b[0m\n\u001b[1;32m     29\u001b[0m       \u001b[38;5;124m\"\u001b[39m\u001b[38;5;124mactionTargetGUID\u001b[39m\u001b[38;5;124m\"\u001b[39m: \u001b[38;5;124m\"\u001b[39m\u001b[38;5;124m58050a15-745a-4727-8257-074c19b02796\u001b[39m\u001b[38;5;124m\"\u001b[39m\n\u001b[1;32m     30\u001b[0m     }]\n\u001b[1;32m     32\u001b[0m requestParameters \u001b[38;5;241m=\u001b[39m {\n\u001b[1;32m     33\u001b[0m     \u001b[38;5;124m\"\u001b[39m\u001b[38;5;124mdataLakeVolumeTemplateGUID\u001b[39m\u001b[38;5;124m\"\u001b[39m : ucVolumeTemplateGUID,\n\u001b[1;32m     34\u001b[0m     \u001b[38;5;124m\"\u001b[39m\u001b[38;5;124mdataLakeSchemaTemplateGUID\u001b[39m\u001b[38;5;124m\"\u001b[39m : ucSchemaTemplateGUID,\n\u001b[0;32m   (...)\u001b[0m\n\u001b[1;32m     37\u001b[0m     \u001b[38;5;124m\"\u001b[39m\u001b[38;5;124mlandingAreaFileTemplateGUID\u001b[39m\u001b[38;5;124m\"\u001b[39m : \u001b[38;5;124m\"\u001b[39m\u001b[38;5;124m5e5ffc97-237d-46c6-95c3-49405035dedc\u001b[39m\u001b[38;5;124m\"\u001b[39m\n\u001b[1;32m     38\u001b[0m }\n\u001b[0;32m---> 40\u001b[0m \u001b[43megeria_client\u001b[49m\u001b[38;5;241;43m.\u001b[39;49m\u001b[43minitiate_gov_action_type\u001b[49m\u001b[43m(\u001b[49m\u001b[43msetUpClinicalTrialName\u001b[49m\u001b[43m,\u001b[49m\u001b[43m \u001b[49m\u001b[38;5;28;43;01mNone\u001b[39;49;00m\u001b[43m,\u001b[49m\u001b[43m \u001b[49m\u001b[43maction_targets\u001b[49m\u001b[43m,\u001b[49m\u001b[43m \u001b[49m\u001b[38;5;28;43;01mNone\u001b[39;49;00m\u001b[43m,\u001b[49m\u001b[43m \u001b[49m\u001b[43mrequestParameters\u001b[49m\u001b[43m,\u001b[49m\u001b[43m \u001b[49m\u001b[38;5;124;43m'\u001b[39;49m\u001b[38;5;124;43mview-server\u001b[39;49m\u001b[38;5;124;43m'\u001b[39;49m\u001b[43m)\u001b[49m\n",
      "File \u001b[0;32m/opt/conda/lib/python3.11/site-packages/pyegeria/automated_curation_omvs.py:2442\u001b[0m, in \u001b[0;36mAutomatedCuration.initiate_gov_action_type\u001b[0;34m(self, action_type_qualified_name, request_source_guids, action_targets, start_time, request_parameters, orig_service_name, orig_engine_name, server)\u001b[0m\n\u001b[1;32m   2410\u001b[0m \u001b[38;5;250m\u001b[39m\u001b[38;5;124;03m\"\"\"Using the named governance action type as a template, initiate an engine action.\u001b[39;00m\n\u001b[1;32m   2411\u001b[0m \n\u001b[1;32m   2412\u001b[0m \u001b[38;5;124;03mParameters\u001b[39;00m\n\u001b[0;32m   (...)\u001b[0m\n\u001b[1;32m   2439\u001b[0m \u001b[38;5;124;03mUserNotAuthorizedException\u001b[39;00m\n\u001b[1;32m   2440\u001b[0m \u001b[38;5;124;03m\"\"\"\u001b[39;00m\n\u001b[1;32m   2441\u001b[0m loop \u001b[38;5;241m=\u001b[39m asyncio\u001b[38;5;241m.\u001b[39mget_event_loop()\n\u001b[0;32m-> 2442\u001b[0m response \u001b[38;5;241m=\u001b[39m \u001b[43mloop\u001b[49m\u001b[38;5;241;43m.\u001b[39;49m\u001b[43mrun_until_complete\u001b[49m\u001b[43m(\u001b[49m\n\u001b[1;32m   2443\u001b[0m \u001b[43m    \u001b[49m\u001b[38;5;28;43mself\u001b[39;49m\u001b[38;5;241;43m.\u001b[39;49m\u001b[43m_async_initiate_gov_action_type\u001b[49m\u001b[43m(\u001b[49m\n\u001b[1;32m   2444\u001b[0m \u001b[43m        \u001b[49m\u001b[43maction_type_qualified_name\u001b[49m\u001b[43m,\u001b[49m\n\u001b[1;32m   2445\u001b[0m \u001b[43m        \u001b[49m\u001b[43mrequest_source_guids\u001b[49m\u001b[43m,\u001b[49m\n\u001b[1;32m   2446\u001b[0m \u001b[43m        \u001b[49m\u001b[43maction_targets\u001b[49m\u001b[43m,\u001b[49m\n\u001b[1;32m   2447\u001b[0m \u001b[43m        \u001b[49m\u001b[43mstart_time\u001b[49m\u001b[43m,\u001b[49m\n\u001b[1;32m   2448\u001b[0m \u001b[43m        \u001b[49m\u001b[43mrequest_parameters\u001b[49m\u001b[43m,\u001b[49m\n\u001b[1;32m   2449\u001b[0m \u001b[43m        \u001b[49m\u001b[43morig_service_name\u001b[49m\u001b[43m,\u001b[49m\n\u001b[1;32m   2450\u001b[0m \u001b[43m        \u001b[49m\u001b[43morig_engine_name\u001b[49m\u001b[43m,\u001b[49m\n\u001b[1;32m   2451\u001b[0m \u001b[43m        \u001b[49m\u001b[43mserver\u001b[49m\u001b[43m,\u001b[49m\n\u001b[1;32m   2452\u001b[0m \u001b[43m    \u001b[49m\u001b[43m)\u001b[49m\n\u001b[1;32m   2453\u001b[0m \u001b[43m\u001b[49m\u001b[43m)\u001b[49m\n\u001b[1;32m   2454\u001b[0m \u001b[38;5;28;01mreturn\u001b[39;00m response\n",
      "File \u001b[0;32m/opt/conda/lib/python3.11/site-packages/nest_asyncio.py:98\u001b[0m, in \u001b[0;36m_patch_loop.<locals>.run_until_complete\u001b[0;34m(self, future)\u001b[0m\n\u001b[1;32m     95\u001b[0m \u001b[38;5;28;01mif\u001b[39;00m \u001b[38;5;129;01mnot\u001b[39;00m f\u001b[38;5;241m.\u001b[39mdone():\n\u001b[1;32m     96\u001b[0m     \u001b[38;5;28;01mraise\u001b[39;00m \u001b[38;5;167;01mRuntimeError\u001b[39;00m(\n\u001b[1;32m     97\u001b[0m         \u001b[38;5;124m'\u001b[39m\u001b[38;5;124mEvent loop stopped before Future completed.\u001b[39m\u001b[38;5;124m'\u001b[39m)\n\u001b[0;32m---> 98\u001b[0m \u001b[38;5;28;01mreturn\u001b[39;00m \u001b[43mf\u001b[49m\u001b[38;5;241;43m.\u001b[39;49m\u001b[43mresult\u001b[49m\u001b[43m(\u001b[49m\u001b[43m)\u001b[49m\n",
      "File \u001b[0;32m/opt/conda/lib/python3.11/asyncio/futures.py:203\u001b[0m, in \u001b[0;36mFuture.result\u001b[0;34m(self)\u001b[0m\n\u001b[1;32m    201\u001b[0m \u001b[38;5;28mself\u001b[39m\u001b[38;5;241m.\u001b[39m__log_traceback \u001b[38;5;241m=\u001b[39m \u001b[38;5;28;01mFalse\u001b[39;00m\n\u001b[1;32m    202\u001b[0m \u001b[38;5;28;01mif\u001b[39;00m \u001b[38;5;28mself\u001b[39m\u001b[38;5;241m.\u001b[39m_exception \u001b[38;5;129;01mis\u001b[39;00m \u001b[38;5;129;01mnot\u001b[39;00m \u001b[38;5;28;01mNone\u001b[39;00m:\n\u001b[0;32m--> 203\u001b[0m     \u001b[38;5;28;01mraise\u001b[39;00m \u001b[38;5;28mself\u001b[39m\u001b[38;5;241m.\u001b[39m_exception\u001b[38;5;241m.\u001b[39mwith_traceback(\u001b[38;5;28mself\u001b[39m\u001b[38;5;241m.\u001b[39m_exception_tb)\n\u001b[1;32m    204\u001b[0m \u001b[38;5;28;01mreturn\u001b[39;00m \u001b[38;5;28mself\u001b[39m\u001b[38;5;241m.\u001b[39m_result\n",
      "File \u001b[0;32m/opt/conda/lib/python3.11/asyncio/tasks.py:277\u001b[0m, in \u001b[0;36mTask.__step\u001b[0;34m(***failed resolving arguments***)\u001b[0m\n\u001b[1;32m    273\u001b[0m \u001b[38;5;28;01mtry\u001b[39;00m:\n\u001b[1;32m    274\u001b[0m     \u001b[38;5;28;01mif\u001b[39;00m exc \u001b[38;5;129;01mis\u001b[39;00m \u001b[38;5;28;01mNone\u001b[39;00m:\n\u001b[1;32m    275\u001b[0m         \u001b[38;5;66;03m# We use the `send` method directly, because coroutines\u001b[39;00m\n\u001b[1;32m    276\u001b[0m         \u001b[38;5;66;03m# don't have `__iter__` and `__next__` methods.\u001b[39;00m\n\u001b[0;32m--> 277\u001b[0m         result \u001b[38;5;241m=\u001b[39m coro\u001b[38;5;241m.\u001b[39msend(\u001b[38;5;28;01mNone\u001b[39;00m)\n\u001b[1;32m    278\u001b[0m     \u001b[38;5;28;01melse\u001b[39;00m:\n\u001b[1;32m    279\u001b[0m         result \u001b[38;5;241m=\u001b[39m coro\u001b[38;5;241m.\u001b[39mthrow(exc)\n",
      "File \u001b[0;32m/opt/conda/lib/python3.11/site-packages/pyegeria/automated_curation_omvs.py:2396\u001b[0m, in \u001b[0;36mAutomatedCuration._async_initiate_gov_action_type\u001b[0;34m(self, action_type_qualified_name, request_source_guids, action_targets, start_time, request_parameters, orig_service_name, orig_engine_name, server)\u001b[0m\n\u001b[1;32m   2385\u001b[0m body \u001b[38;5;241m=\u001b[39m {\n\u001b[1;32m   2386\u001b[0m     \u001b[38;5;124m\"\u001b[39m\u001b[38;5;124mclass\u001b[39m\u001b[38;5;124m\"\u001b[39m: \u001b[38;5;124m\"\u001b[39m\u001b[38;5;124mInitiateGovernanceActionTypeRequestBody\u001b[39m\u001b[38;5;124m\"\u001b[39m,\n\u001b[1;32m   2387\u001b[0m     \u001b[38;5;124m\"\u001b[39m\u001b[38;5;124mgovernanceActionTypeQualifiedName\u001b[39m\u001b[38;5;124m\"\u001b[39m: action_type_qualified_name,\n\u001b[0;32m   (...)\u001b[0m\n\u001b[1;32m   2393\u001b[0m     \u001b[38;5;124m\"\u001b[39m\u001b[38;5;124moriginatorEngineName\u001b[39m\u001b[38;5;124m\"\u001b[39m: orig_engine_name,\n\u001b[1;32m   2394\u001b[0m }\n\u001b[1;32m   2395\u001b[0m new_body \u001b[38;5;241m=\u001b[39m body_slimmer(body)\n\u001b[0;32m-> 2396\u001b[0m response \u001b[38;5;241m=\u001b[39m \u001b[38;5;28;01mawait\u001b[39;00m \u001b[38;5;28mself\u001b[39m\u001b[38;5;241m.\u001b[39m_async_make_request(\u001b[38;5;124m\"\u001b[39m\u001b[38;5;124mPOST\u001b[39m\u001b[38;5;124m\"\u001b[39m, url, new_body)\n\u001b[1;32m   2397\u001b[0m \u001b[38;5;28;01mreturn\u001b[39;00m response\u001b[38;5;241m.\u001b[39mjson()\u001b[38;5;241m.\u001b[39mget(\u001b[38;5;124m\"\u001b[39m\u001b[38;5;124mguid\u001b[39m\u001b[38;5;124m\"\u001b[39m, \u001b[38;5;124m\"\u001b[39m\u001b[38;5;124mAction not initiated\u001b[39m\u001b[38;5;124m\"\u001b[39m)\n",
      "File \u001b[0;32m/opt/conda/lib/python3.11/site-packages/pyegeria/_client.py:398\u001b[0m, in \u001b[0;36mClient._async_make_request\u001b[0;34m(self, request_type, endpoint, payload, time_out)\u001b[0m\n\u001b[1;32m    396\u001b[0m     \u001b[38;5;28;01melse\u001b[39;00m:\n\u001b[1;32m    397\u001b[0m         exc_message \u001b[38;5;241m=\u001b[39m response\u001b[38;5;241m.\u001b[39mtext\n\u001b[0;32m--> 398\u001b[0m         \u001b[38;5;28;01mraise\u001b[39;00m InvalidParameterException(exc_message)\n\u001b[1;32m    399\u001b[0m \u001b[38;5;28;01melse\u001b[39;00m:\n\u001b[1;32m    400\u001b[0m     msg \u001b[38;5;241m=\u001b[39m OMAGCommonErrorCode\u001b[38;5;241m.\u001b[39mCLIENT_SIDE_REST_API_ERROR\u001b[38;5;241m.\u001b[39mvalue[\n\u001b[1;32m    401\u001b[0m         \u001b[38;5;124m\"\u001b[39m\u001b[38;5;124mmessage_template\u001b[39m\u001b[38;5;124m\"\u001b[39m\n\u001b[1;32m    402\u001b[0m     ]\u001b[38;5;241m.\u001b[39mformat(\n\u001b[0;32m   (...)\u001b[0m\n\u001b[1;32m    409\u001b[0m         ],\n\u001b[1;32m    410\u001b[0m     )\n",
      "\u001b[0;31mInvalidParameterException\u001b[0m: OMAG-GENERIC-HANDLERS-400-013 Unable to initiate an instance of the ClinicalTrials@CocoPharmaceuticals:set-up-clinical-trial governance action type because the name is not recognized"
     ]
    }
   ],
   "source": [
    "setUpClinicalTrialName=\"ClinicalTrials@CocoPharmaceuticals:set-up-clinical-trial\"\n",
    "\n",
    "projectGUID=\"a2915132-9d9a-4449-846f-43a871b5a6a0\"\n",
    "\n",
    "\n",
    "action_targets = [{\n",
    "      \"class\" : \"NewActionTarget\",\n",
    "      \"actionTargetName\": \"clinicalTrialProject\",\n",
    "      \"actionTargetGUID\": projectGUID\n",
    "    },\n",
    "    {\n",
    "      \"class\" : \"NewActionTarget\",\n",
    "      \"actionTargetName\": \"processOwner\",\n",
    "      \"actionTargetGUID\": \"685b486b-d627-448a-9396-07b6c06da071\"\n",
    "    },\n",
    "    {\n",
    "      \"class\" : \"NewActionTarget\",\n",
    "      \"actionTargetName\": \"custodian\",\n",
    "      \"actionTargetGUID\": \"8fb16e47-77a1-4e31-9917-79d77d108b0c\"\n",
    "    },\n",
    "    {\n",
    "      \"class\" : \"NewActionTarget\",\n",
    "      \"actionTargetName\": \"steward\",\n",
    "      \"actionTargetGUID\": \"58e34d15-3043-4c1f-b148-3f0671b0a369\"\n",
    "    },\n",
    "    {\n",
    "      \"class\" : \"NewActionTarget\",\n",
    "      \"actionTargetName\": \"onboardingPipeline\",\n",
    "      \"actionTargetGUID\": \"58050a15-745a-4727-8257-074c19b02796\"\n",
    "    }]\n",
    "\n",
    "requestParameters = {\n",
    "    \"dataLakeVolumeTemplateGUID\" : ucVolumeTemplateGUID,\n",
    "    \"dataLakeSchemaTemplateGUID\" : ucSchemaTemplateGUID,\n",
    "    \"dataLakeFileTemplateGUID\" : \"b2ec7c9d-3462-488a-897d-8e873658dded\",\n",
    "    \"landingAreaDirectoryTemplateGUID\" : \"fbdd8efd-1b69-474c-bb6d-0a304b394146\",\n",
    "    \"landingAreaFileTemplateGUID\" : \"5e5ffc97-237d-46c6-95c3-49405035dedc\"\n",
    "}\n",
    "\n",
    "egeria_client.initiate_gov_action_type(setUpClinicalTrialName, None, action_targets, None, requestParameters, 'view-server')\n"
   ]
  },
  {
   "cell_type": "markdown",
   "id": "e85d8251-51b9-4cb7-8560-c1a58f76d417",
   "metadata": {},
   "source": [
    "---\n",
    "\n",
    "## Setting up the data lake resources in Unity Catalog (UC)\n",
    "\n",
    "The first step in the demo is to create the schema and volume in the data lake as the destination for the files from the hospital.\n",
    "\n",
    "----"
   ]
  },
  {
   "cell_type": "code",
   "execution_count": null,
   "id": "667439d7-5e0f-48b4-bf1e-27e2450bf1cc",
   "metadata": {},
   "outputs": [],
   "source": [
    "token = egeria_client.create_egeria_bearer_token()"
   ]
  },
  {
   "cell_type": "code",
   "execution_count": null,
   "id": "fd0709ad-e859-4505-955b-1aebaf3ae3dc",
   "metadata": {},
   "outputs": [],
   "source": [
    "setUpDataLakeProcessName=\"ClinicalTrials:PROJ-CT-TBDF:set-up-data-lake\"\n",
    "\n",
    "dataLakeDirectoryPathName=\"/deployments/data/coco-data-lake/research/clinical-trials/drop-foot/weekly-measurements\"\n",
    "catalogGUID=\"1502f4ac-52d5-4f94-905d-64d6c8244579\"\n",
    "\n",
    "action_targets = [{\n",
    "      \"class\" : \"NewActionTarget\",\n",
    "      \"actionTargetName\": \"dataLakeCatalog\",\n",
    "      \"actionTargetGUID\": catalogGUID\n",
    "    }]\n",
    "\n",
    "requestParameters = {\n",
    "     \"dataLakeSchemaName\" : \"teddy_bear_drop_foot\",\n",
    "     \"dataLakeSchemaDescription\" : \"Data for the Teddy Bear Drop Foot Clinical Trial.\",\n",
    "     \"dataLakeVolumeName\" : \"weekly_measurements\",\n",
    "     \"dataLakeVolumeDescription\" : \"Weekly patient measurements\",\n",
    "     \"dataLakeVolumeDirectoryPathName\" : dataLakeDirectoryPathName\n",
    "}\n",
    "\n",
    "egeria_client.initiate_gov_action_type(setUpDataLakeProcessName, None, action_targets, None, requestParameters, None)"
   ]
  },
  {
   "cell_type": "code",
   "execution_count": null,
   "id": "8704138b-0891-4124-8518-6762b1dca133",
   "metadata": {},
   "outputs": [],
   "source": []
  },
  {
   "cell_type": "markdown",
   "id": "897ff967-2ba1-483c-89f3-bc7c39bc4f86",
   "metadata": {},
   "source": [
    "----\n",
    "\n",
    "This process creates a description of the volume required in Egeria.  When the Integration Connectors next refresh, the volume is pushed into Unity Catalog (UC).\n",
    "\n",
    "## Creating the onboarding pipelines\n",
    "\n",
    "Once the volume is in place, the next step is to create the pipelines for the three hospitals.\n",
    "\n",
    "----"
   ]
  },
  {
   "cell_type": "code",
   "execution_count": null,
   "id": "f2f1ee7c-884f-4dcc-98a9-d9e30470d205",
   "metadata": {},
   "outputs": [],
   "source": [
    "\n",
    "onboardHospitalName = \"ClinicalTrials:PROJ-CT-TBDF:nominate-hospital\"\n",
    "newFileProcessName=\"Coco:GovernanceActionProcess:ClinicalTrials:WeeklyMeasurements:Onboarding\"\n",
    "genericOnboardingProcessGUID=\"508d3878-8eae-47e5-8507-ee936f33b418\"\n",
    "\n",
    "oakDeneHospitalGUID=\"7905f803-7b7e-47c4-8b35-d0a0cfa47469\"\n",
    "oakDeneContactPerson=\"80bf48b0-5ef2-4294-950d-0c6fd568a1b2\"\n",
    "oldMarketHospitalGUID=\"fe8f4065-6664-4739-9438-3330909e6b98\"\n",
    "oldMarketContactPerson=\"fabc88d6-d28e-4e2d-9086-6affc8c45a7a\"\n",
    "hamptonHospitalGUID=\"c596f5c4-0aee-4fdc-969b-69fa26b72529\"\n",
    "hamptonContactPerson=\"e2bcf56b-f822-47d8-82fa-94cd2a5a772c\"\n",
    "\n",
    "landingAreaRootDirectoryName=\"landing-area\"\n",
    "oakDeneLandingAreaDirectoryName=\"landing-area/hospitals/oak-dene/clinical-trials/drop-foot\"\n",
    "oldMarketLandingAreaDirectoryName=\"landing-area/hospitals/old-market/clinical-trials/drop-foot\"\n",
    "hamptonLandingAreaDirectoryName=\"landing-area/hospitals/hampton/clinical-trials/drop-foot\"\n",
    "\n"
   ]
  },
  {
   "cell_type": "code",
   "execution_count": null,
   "id": "3a69ccdc-627e-46ca-adb2-81ee82e89ef6",
   "metadata": {},
   "outputs": [],
   "source": [
    "from datetime import datetime\n",
    "\n",
    "\n",
    "actionTargets = [{\n",
    "      \"class\" : \"NewActionTarget\",\n",
    "      \"actionTargetName\": \"hospital\",\n",
    "      \"actionTargetGUID\": oakDeneHospitalGUID\n",
    "    },\n",
    "    {\n",
    "      \"class\" : \"NewActionTarget\",\n",
    "      \"actionTargetName\": \"hospitalContactPerson\",\n",
    "      \"actionTargetGUID\": oakDeneContactPerson\n",
    "    }]\n",
    "\n",
    "\n",
    "egeria_client.initiate_gov_action_process(onboardHospitalName, None, actionTargets, datetime.now(), None, None, None, \"view-server\")"
   ]
  },
  {
   "cell_type": "code",
   "execution_count": null,
   "id": "057d1bcb-a0e6-461d-b240-e450ac1fd947",
   "metadata": {},
   "outputs": [],
   "source": [
    "actionTargets = [{\n",
    "      \"class\" : \"NewActionTarget\",\n",
    "      \"actionTargetName\": \"hospital\",\n",
    "      \"actionTargetGUID\": oldMarketHospitalGUID\n",
    "    },\n",
    "    {\n",
    "      \"class\" : \"NewActionTarget\",\n",
    "      \"actionTargetName\": \"hospitalContactPerson\",\n",
    "      \"actionTargetGUID\": oldMarketContactPerson\n",
    "    }]\n",
    "\n",
    "\n",
    "egeria_client.initiate_gov_action_process(onboardHospitalName, None, actionTargets, datetime.now(), None, None, None, \"view-server\")"
   ]
  },
  {
   "cell_type": "code",
   "execution_count": null,
   "id": "06443488-b877-42a4-b055-6a19b60a1fd6",
   "metadata": {},
   "outputs": [],
   "source": [
    "actionTargets = [{\n",
    "      \"class\" : \"NewActionTarget\",\n",
    "      \"actionTargetName\": \"hospital\",\n",
    "      \"actionTargetGUID\": hamptonHospitalGUID\n",
    "    },\n",
    "    {\n",
    "      \"class\" : \"NewActionTarget\",\n",
    "      \"actionTargetName\": \"hospitalContactPerson\",\n",
    "      \"actionTargetGUID\": hamptonContactPerson\n",
    "    }]\n",
    "\n",
    "\n",
    "egeria_client.initiate_gov_action_process(onboardHospitalName, None, actionTargets, datetime.now(), None, None, None, \"view-server\")"
   ]
  },
  {
   "cell_type": "code",
   "execution_count": null,
   "id": "ed5c3b40-b116-4a2a-99e1-100865567683",
   "metadata": {},
   "outputs": [],
   "source": [
    "actionTargets2 = [\n",
    "    {\n",
    "      \"class\" : \"NewActionTarget\",\n",
    "      \"actionTargetName\": \"clinicalTrialProject\",\n",
    "      \"actionTargetGUID\": projectGUID\n",
    "    },\n",
    "    {\n",
    "      \"class\" : \"NewActionTarget\",\n",
    "      \"actionTargetName\": \"hospital\",\n",
    "      \"actionTargetGUID\": hamptonHospitalGUID\n",
    "    },\n",
    "    {\n",
    "      \"class\" : \"NewActionTarget\",\n",
    "      \"actionTargetName\": \"landingAreaConnector\",\n",
    "      \"actionTargetGUID\": \"1b98cdac-dd0a-4621-93db-99ef5a1098bc\"\n",
    "    },\n",
    "    {\n",
    "      \"class\" : \"NewActionTarget\",\n",
    "      \"actionTargetName\": \"hospitalContactPerson\",\n",
    "      \"actionTargetGUID\": hamptonContactPerson\n",
    "    }]\n",
    "\n",
    "requestParameters2 = {\n",
    "       \"landingAreaDirectoryTemplateGUID\" : landingAreaFolderTemplateGUID,\n",
    "       \"landingAreaDirectoryPathName\" : hamptonLandingAreaDirectoryName,\n",
    "       \"landingAreaFileTemplateGUID\" : landingAreaTemplateGUID,\n",
    "       \"dataLakeFileTemplateGUID\" : dataLakeTemplateGUID,\n",
    "       \"destinationDirectory\" : dataLakeDirectoryPathName,\n",
    "       \"newFileProcessName\" : newFileProcessName\n",
    "    }\n",
    "\n",
    "egeria_client.initiate_gov_action_type(onboardHospitalName, None, actionTargets2, None, None, None)"
   ]
  },
  {
   "cell_type": "code",
   "execution_count": null,
   "id": "abdc6fba-676c-4a11-9afa-2392d15c0182",
   "metadata": {},
   "outputs": [],
   "source": []
  },
  {
   "cell_type": "code",
   "execution_count": null,
   "id": "ae88a2db-c79a-471c-a07b-a020bd0fc135",
   "metadata": {},
   "outputs": [],
   "source": []
  }
 ],
 "metadata": {
  "kernelspec": {
   "display_name": "Python 3 (ipykernel)",
   "language": "python",
   "name": "python3"
  },
  "language_info": {
   "codemirror_mode": {
    "name": "ipython",
    "version": 3
   },
   "file_extension": ".py",
   "mimetype": "text/x-python",
   "name": "python",
   "nbconvert_exporter": "python",
   "pygments_lexer": "ipython3",
   "version": "3.11.9"
  }
 },
 "nbformat": 4,
 "nbformat_minor": 5
}

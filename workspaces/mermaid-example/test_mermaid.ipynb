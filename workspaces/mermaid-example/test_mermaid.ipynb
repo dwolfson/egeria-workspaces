{
 "cells": [
  {
   "cell_type": "markdown",
   "id": "9d3b84a32edfd9a7",
   "metadata": {},
   "source": [
    "\n",
    "\n",
    "SPDX-License-Identifier: Apache-2.0\n",
    "Copyright Contributors to the ODPi Egeria project.\n",
    "\n",
    "\n",
    "\n",
    "Notebook provides a simple example of using the pyegeria mermaid_utilities functions.\n",
    "\n",
    "A running Egeria environment is needed to run these functions.\n",
    "\n",
    "* mermaid_graph(process_guid, view_server, url, user_id, password) - generates Mermaid markdown for the Egeria process.\n",
    "* load_mermaid() - must be executed once per session to inject mermaid javascript code into the Jupyter environment.\n",
    "* render_mermaid(mermaid_code) - renders and displays the Mermaid markdown code specified.\n"
   ]
  },
  {
   "cell_type": "code",
   "execution_count": 3,
   "id": "initial_id",
   "metadata": {},
   "outputs": [
    {
     "name": "stdout",
     "output_type": "stream",
     "text": [
      "\n",
      "---\n",
      "title: Onboard Landing Area Files\n",
      "---\n",
      "flowchart LR\n",
      "\n",
      "Step1[(\"`**Move Weekly Measurements File**\n",
      "*nwait_time*: 0\n",
      "*nmult_trig*: True`\")]\n",
      "Step2(\"`**Seek and validate origin**\n",
      "*wait_time*: 0\n",
      "*mult_trig*: True`\")\n",
      "Step3(\"`**SetRetentionPeriod.**\n",
      "*wait_time*: 0\n",
      "*mult_trig*: True`\")\n",
      "Step4(\"`**Publish asset.**\n",
      "*wait_time*: 0\n",
      "*mult_trig*: True`\")\n",
      "Step1-->|provisioning-complete|Step2\n",
      "Step2-->|origin-already-assigned|Step3\n",
      "Step3-->|classification-assigned|Step4\n",
      "Step2-->|origin-assigned|Step3\n"
     ]
    },
    {
     "data": {
      "text/html": [
       "\n",
       "    <script type=\"text/javascript\">\n",
       "        if (!window.mermaid) {\n",
       "            var mermaidScript = document.createElement('script');\n",
       "            mermaidScript.src = \"https://cdnjs.cloudflare.com/ajax/libs/mermaid/10.9.1/mermaid.min.js\";\n",
       "            document.head.appendChild(mermaidScript);\n",
       "        }\n",
       "    </script>\n",
       "    "
      ],
      "text/plain": [
       "<IPython.core.display.HTML object>"
      ]
     },
     "metadata": {},
     "output_type": "display_data"
    },
    {
     "data": {
      "text/html": [
       "\n",
       "    <div class=\"mermaid\">\n",
       "        \n",
       "---\n",
       "title: Onboard Landing Area Files\n",
       "---\n",
       "flowchart LR\n",
       "\n",
       "Step1[(\"`**Move Weekly Measurements File**\n",
       "*nwait_time*: 0\n",
       "*nmult_trig*: True`\")]\n",
       "Step2(\"`**Seek and validate origin**\n",
       "*wait_time*: 0\n",
       "*mult_trig*: True`\")\n",
       "Step3(\"`**SetRetentionPeriod.**\n",
       "*wait_time*: 0\n",
       "*mult_trig*: True`\")\n",
       "Step4(\"`**Publish asset.**\n",
       "*wait_time*: 0\n",
       "*mult_trig*: True`\")\n",
       "Step1-->|provisioning-complete|Step2\n",
       "Step2-->|origin-already-assigned|Step3\n",
       "Step3-->|classification-assigned|Step4\n",
       "Step2-->|origin-assigned|Step3\n",
       "    </div>\n",
       "    <script type=\"text/javascript\">\n",
       "        if (window.mermaid) {\n",
       "    mermaid.initialize({startOnLoad: true});\n",
       "    mermaid.contentLoaded();\n",
       "    }\n",
       "    </script>\n",
       "    "
      ],
      "text/plain": [
       "<IPython.core.display.HTML object>"
      ]
     },
     "metadata": {},
     "output_type": "display_data"
    }
   ],
   "source": [
    "from pyegeria import load_mermaid, render_mermaid, generate_process_graph\n",
    "\n",
    "mermaid_graph = generate_process_graph()\n",
    "print(mermaid_graph)\n",
    "load_mermaid()\n",
    "render_mermaid(mermaid_graph)"
   ]
  },
  {
   "cell_type": "code",
   "execution_count": null,
   "id": "a43798ee2a01df00",
   "metadata": {},
   "outputs": [],
   "source": []
  },
  {
   "cell_type": "code",
   "execution_count": null,
   "id": "dc8c8d796e7b72ce",
   "metadata": {},
   "outputs": [],
   "source": []
  }
 ],
 "metadata": {
  "kernelspec": {
   "display_name": "Python 3 (ipykernel)",
   "language": "python",
   "name": "python3"
  },
  "language_info": {
   "codemirror_mode": {
    "name": "ipython",
    "version": 3
   },
   "file_extension": ".py",
   "mimetype": "text/x-python",
   "name": "python",
   "nbconvert_exporter": "python",
   "pygments_lexer": "ipython3",
   "version": "3.11.9"
  }
 },
 "nbformat": 4,
 "nbformat_minor": 5
}

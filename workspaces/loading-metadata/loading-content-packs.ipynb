{
 "cells": [
  {
   "cell_type": "markdown",
   "id": "6041fdd1-f2b1-45c7-9f59-a581db73f726",
   "metadata": {},
   "source": [
    "<!-- SPDX-License-Identifier: CC-BY-4.0 -->\n",
    "<!-- Copyright Contributors to the ODPi Egeria project 2024. -->\n",
    "\n",
    "![Egeria Logo](https://raw.githubusercontent.com/odpi/egeria/main/assets/img/ODPi_Egeria_Logo_color.png)\n",
    "\n",
    "### Egeria Workbook\n",
    "\n",
    "# Loading content packs\n",
    "\n",
    "## Introduction\n",
    "\n",
    "A [content pack](https://egeria-project.org/content-packs/) is a collection of curated metadata that can be loaded into your metadata store.  Egeria includes a number of content packs that can be used to explore various features of egeria ot to test your integration code.  This workbook shows how to load a content pack that is stored as a file.  These files have a file extension of `omarchive`.\n",
    "\n",
    "## Listing the content packs\n",
    "\n",
    "A list of content packs installed in Egeria's runtime container can be retrieved using the `hey_egeria_cat show list-archives` command or through the `EgeriaTech` python libraries:\n",
    "\n",
    "----"
   ]
  },
  {
   "cell_type": "code",
   "execution_count": null,
   "id": "c77a1e2d-f13d-45bf-8fdf-3efe86a6d8cc",
   "metadata": {
    "execution": {
     "iopub.execute_input": "2025-09-19T09:33:26.141286Z",
     "iopub.status.busy": "2025-09-19T09:33:26.141094Z"
    }
   },
   "outputs": [],
   "source": [
    "import os\n",
    "view_server = os.environ.get(\"VIEW_SERVER\",\"qs-view-server\")\n",
    "url = os.environ.get(\"EGERIA_VIEW_SERVER_URL\",\"https://host.docker.internal:9443\")\n",
    "user_id = os.environ.get(\"EGERIA_USER\", \"peterprofile\")\n",
    "user_pwd = os.environ.get(\"EGERIA_USER_PASSWORD\")\n",
    "\n",
    "from pyegeria import EgeriaTech\n",
    "import asyncio\n",
    "import nest_asyncio\n",
    "nest_asyncio.apply()\n",
    "\n",
    "from datetime import datetime\n",
    "\n",
    "egeria_tech = EgeriaTech(view_server, url, user_id, user_pwd)\n",
    "egeria_tech_token = egeria_tech.create_egeria_bearer_token()"
   ]
  },
  {
   "cell_type": "code",
   "execution_count": null,
   "id": "ab11f094-b534-4163-bf34-bd50f8fde3dd",
   "metadata": {},
   "outputs": [],
   "source": [
    "\n",
    "archiveList = egeria_tech.get_elements_by_property_value(\"omarchive\", [\"fileExtension\"], \"ArchiveFile\")\n",
    "if archiveList:\n",
    "    print(\"Known Archive Files:\")\n",
    "    for archiveFile in archiveList:\n",
    "        if archiveFile:\n",
    "            properties = archiveFile.get('properties')\n",
    "            if properties:\n",
    "               print(\"* \" + properties.get('pathName'))\n",
    "            "
   ]
  },
  {
   "cell_type": "markdown",
   "id": "a1772520-f97f-4db4-95df-891f88f6ede7",
   "metadata": {},
   "source": [
    "----\n",
    "\n",
    "A description of these content packs can be found in the [Egeria documentation](https://egeria-project.org/content-packs/).\n",
    "\n",
    "\n",
    "To load one of these archives, you need to choose a metadata access server where you want the metadata to be stored and then call the load function with the name of the archive.\n",
    "\n",
    "The code below lists the metadata access servers currently known to Egeria:\n",
    "\n",
    "----"
   ]
  },
  {
   "cell_type": "code",
   "execution_count": null,
   "id": "1c1d35d6-babe-4e95-9de3-ef0bac821442",
   "metadata": {},
   "outputs": [],
   "source": [
    "serverList = egeria_tech.get_technology_type_elements(\"Metadata Access Server\")\n",
    "\n",
    "if serverList:\n",
    "    print(\"Known Metadata Access Servers:\")\n",
    "    for server in serverList:\n",
    "        if server:\n",
    "            guid=\"???\"\n",
    "            serverName=\"????\"\n",
    "            description=\"???????\"\n",
    "            elementHeader = server.get('elementHeader')\n",
    "            if elementHeader:\n",
    "                guid = elementHeader.get('guid')\n",
    "            properties = server.get('referenceableProperties')\n",
    "            if properties:\n",
    "                extendedProperties = properties.get('extendedProperties')\n",
    "                if extendedProperties:\n",
    "                    serverName=extendedProperties.get('resourceName')\n",
    "                    description=extendedProperties.get('description')\n",
    "            print(\"* \" + serverName + \" (\" + guid + \") - \" + description)\n",
    "            "
   ]
  },
  {
   "cell_type": "markdown",
   "id": "86b86609-7daf-458e-9fc4-63375e0316f8",
   "metadata": {},
   "source": [
    "----\n",
    "\n",
    "In the code below, the */deployments/content-packs/CocoComboArchive.omarchive* archive is loaded into the *active-metadata-server*.  This provides lots of metadata describing the Coco Pharmceuticals people and operations.  It does not matter if the same archive is loaded multiple times.  This does not result in duplicate versions of the same element.\n",
    "\n",
    "-----"
   ]
  },
  {
   "cell_type": "code",
   "execution_count": null,
   "id": "65a9a1e1-dd92-4fba-98ad-04df9d4c27af",
   "metadata": {},
   "outputs": [],
   "source": [
    "\n",
    "egeria_tech.add_archive_file(\"content-packs/CocoComboArchive.omarchive\", None, \"qs-metadata-store\")\n",
    "\n",
    "print(\"Archive loaded!\")\n"
   ]
  },
  {
   "cell_type": "markdown",
   "id": "0cc56a13-6a2a-46cd-a065-6437534c0de6",
   "metadata": {},
   "source": [
    "----\n",
    "\n",
    "There is no response, however the archive is loaded if it responds without an error.  If an error comes back indicating that there has been a time out, then the archive will continue to load in the server until it is complete.\n",
    "\n",
    "The next code loads support for different types of technology.  You can run the cells selectively, or all of them to load all default connectors.\n",
    "\n",
    "----"
   ]
  },
  {
   "cell_type": "code",
   "execution_count": null,
   "id": "75d05a58-8694-4100-932a-5fe1a49aba27",
   "metadata": {},
   "outputs": [],
   "source": [
    "\n",
    "egeria_tech.add_archive_file(\"content-packs/UnityCatalogContentPack.omarchive\", None, \"qs-metadata-store\")\n",
    "\n",
    "print(\"Archive loaded!\")\n"
   ]
  },
  {
   "cell_type": "code",
   "execution_count": null,
   "id": "6ff47b1d-871b-4b82-b1bf-5c64762d9bc9",
   "metadata": {},
   "outputs": [],
   "source": [
    "\n",
    "egeria_tech.add_archive_file(\"content-packs/PostgresContentPack.omarchive\", None, \"qs-metadata-store\")\n",
    "\n",
    "print(\"Archive loaded!\")\n"
   ]
  },
  {
   "cell_type": "code",
   "execution_count": null,
   "id": "0563627c-4e3d-402a-b1ea-f58b4bdae595",
   "metadata": {},
   "outputs": [],
   "source": [
    "\n",
    "egeria_tech.add_archive_file(\"content-packs/ApacheKafkaContentPack.omarchive\", None, \"qs-metadata-store\")\n",
    "\n",
    "print(\"Archive loaded!\")\n"
   ]
  },
  {
   "cell_type": "code",
   "execution_count": null,
   "id": "f70afaf7-e06c-4be3-9dbb-8638e34d34f4",
   "metadata": {},
   "outputs": [],
   "source": [
    "\n",
    "egeria_tech.add_archive_file(\"content-packs/ApacheAtlasContentPack.omarchive\", None, \"qs-metadata-store\")\n",
    "\n",
    "print(\"Archive loaded!\")\n"
   ]
  },
  {
   "cell_type": "code",
   "execution_count": null,
   "id": "31d4b3ac-070b-4068-8ebf-b17620be1858",
   "metadata": {},
   "outputs": [],
   "source": [
    "\n",
    "egeria_tech.add_archive_file(\"content-packs/APIsContentPack.omarchive\", None, \"qs-metadata-store\")\n",
    "\n",
    "print(\"Archive loaded!\")\n"
   ]
  },
  {
   "cell_type": "code",
   "execution_count": null,
   "id": "71a92892-f7a0-4823-b740-a5c01c86795d",
   "metadata": {},
   "outputs": [],
   "source": [
    "\n",
    "# Postgres is required by the objservability content pack\n",
    "egeria_tech.add_archive_file(\"content-packs/PostgresContentPack.omarchive\", None, \"qs-metadata-store\")\n",
    "egeria_tech.add_archive_file(\"content-packs/ObservabilityContentPack.omarchive\", None, \"qs-metadata-store\")\n",
    "\n",
    "print(\"Archive loaded!\")\n"
   ]
  },
  {
   "cell_type": "markdown",
   "id": "97c86596-399f-4d10-b258-b31c61a82e87",
   "metadata": {},
   "source": [
    "----\n",
    "\n",
    "If you want to experiment with a glossary, the Cloud Information Model is a simple commerce glossary.\n",
    "\n",
    "----"
   ]
  },
  {
   "cell_type": "code",
   "execution_count": null,
   "id": "da733b9f-a46a-4934-b2cb-8978a3415b27",
   "metadata": {},
   "outputs": [],
   "source": [
    "\n",
    "egeria_tech.add_archive_file(\"content-packs/CloudInformationModel.omarchive\", None, \"qs-metadata-store\")\n",
    "\n",
    "print(\"Archive loaded!\")\n"
   ]
  },
  {
   "cell_type": "code",
   "execution_count": null,
   "id": "40ec4da3-8238-48bd-b616-2682a286141f",
   "metadata": {},
   "outputs": [],
   "source": []
  }
 ],
 "metadata": {
  "kernelspec": {
   "display_name": "Python 3 (ipykernel)",
   "language": "python",
   "name": "python3"
  },
  "language_info": {
   "codemirror_mode": {
    "name": "ipython",
    "version": 3
   },
   "file_extension": ".py",
   "mimetype": "text/x-python",
   "name": "python",
   "nbconvert_exporter": "python",
   "pygments_lexer": "ipython3",
   "version": "3.13.7"
  }
 },
 "nbformat": 4,
 "nbformat_minor": 5
}
